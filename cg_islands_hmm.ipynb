{
 "cells": [
  {
   "cell_type": "markdown",
   "metadata": {
    "collapsed": true
   },
   "source": [
    "# Detecting CG islands using Multinomial Hidden Markov Models\n",
    "\n",
    "In computational genomics, CG sites are regions of DNA where a cytosine nucleotide (C) is followed by a guanine nucleotide (G) in the linear sequence of bases along its 5' → 3' direction. CG islands are regions with a high frequency (over 50%) of CG sites. CG islands are subject of theoretical interest in genetics for several reasons, one of which is that CG islands are frequently found in promoter regions of a DNA string, i.e. regions that initiate transcription of a particular gene.\n",
    "\n",
    "In this experiment we train a Multinomial Hidden Markov Model with two hidden states to predict DNA strings being either CG islands or non-CG islands."
   ]
  },
  {
   "cell_type": "code",
   "execution_count": null,
   "metadata": {},
   "outputs": [],
   "source": [
    "import numpy as np\n",
    "from hmmlearn import hmm\n",
    "from Bio import SeqIO\n",
    "np.random.seed(42)"
   ]
  },
  {
   "cell_type": "code",
   "execution_count": 224,
   "metadata": {},
   "outputs": [],
   "source": [
    "train_data = next(SeqIO.parse(\"cpg.fa_\", \"fasta\"))\n",
    "test_data = list(SeqIO.parse(\"cpg_test.fa_\", \"fasta\"))"
   ]
  },
  {
   "cell_type": "code",
   "execution_count": 83,
   "metadata": {},
   "outputs": [
    {
     "data": {
      "text/plain": [
       "SeqRecord(seq=Seq('GGACAAGGCCACAATCGGCTGTCTGCATAGATACGAGCTTCGCCCCATAGAGAT...GCA', SingleLetterAlphabet()), id='training', name='training', description='training sequence for cpg islands', dbxrefs=[])"
      ]
     },
     "execution_count": 83,
     "metadata": {},
     "output_type": "execute_result"
    }
   ],
   "source": [
    "train_data"
   ]
  },
  {
   "cell_type": "markdown",
   "metadata": {},
   "source": [
    "Our data preprocesssing includes joining single nucleotydes into dinucletydes and mapping them to integers."
   ]
  },
  {
   "cell_type": "code",
   "execution_count": 84,
   "metadata": {},
   "outputs": [],
   "source": [
    "DINUCLEOTYDES = {key: value for key, value in \n",
    "                 zip((first+second for first in 'ACTG' for second in 'ACTG'), range(16))}\n",
    "CG_POSITION = DINICLEOTYDES['CG']"
   ]
  },
  {
   "cell_type": "code",
   "execution_count": 85,
   "metadata": {},
   "outputs": [
    {
     "data": {
      "text/plain": [
       "({'AA': 0,\n  'AC': 1,\n  'AG': 3,\n  'AT': 2,\n  'CA': 4,\n  'CC': 5,\n  'CG': 7,\n  'CT': 6,\n  'GA': 12,\n  'GC': 13,\n  'GG': 15,\n  'GT': 14,\n  'TA': 8,\n  'TC': 9,\n  'TG': 11,\n  'TT': 10},\n 7)"
      ]
     },
     "execution_count": 85,
     "metadata": {},
     "output_type": "execute_result"
    }
   ],
   "source": [
    "DINUCLEOTYDES, CG_POSITION"
   ]
  },
  {
   "cell_type": "code",
   "execution_count": 206,
   "metadata": {},
   "outputs": [],
   "source": [
    "def extract_dinucleotydes(data):\n",
    "    result = []\n",
    "    for i in range(1, len(data)-1, 2):\n",
    "        dinucletotyde = data[i] + data[i+1]\n",
    "        result.append(DINUCLEOTYDES[dinucletotyde])\n",
    "    return result"
   ]
  },
  {
   "cell_type": "code",
   "execution_count": 207,
   "metadata": {},
   "outputs": [
    {
     "data": {
      "text/plain": [
       "array([12,  4,  3, ...,  0, 15, 13])"
      ]
     },
     "execution_count": 207,
     "metadata": {},
     "output_type": "execute_result"
    }
   ],
   "source": [
    "train_data = extract_dinucleotydes(train_data)\n",
    "train_data = np.array(train_data).T\n",
    "train_data"
   ]
  },
  {
   "cell_type": "code",
   "execution_count": 147,
   "metadata": {
    "collapsed": false
   },
   "outputs": [
    {
     "name": "stderr",
     "output_type": "stream",
     "text": [
      "/Users/tomek/.virtualenvs/x/lib/python3.6/site-packages/sklearn/utils/validation.py:395: DeprecationWarning: Passing 1d arrays as data is deprecated in 0.17 and will raise ValueError in 0.19. Reshape your data either using X.reshape(-1, 1) if your data has a single feature or X.reshape(1, -1) if it contains a single sample.\n  DeprecationWarning)\n"
     ]
    },
    {
     "name": "stderr",
     "output_type": "stream",
     "text": [
      "         1    -9812557.4783             +nan\n"
     ]
    },
    {
     "name": "stderr",
     "output_type": "stream",
     "text": [
      "         2    -9258857.7110     +553699.7673\n"
     ]
    },
    {
     "name": "stderr",
     "output_type": "stream",
     "text": [
      "         3    -9258509.5112        +348.1998\n"
     ]
    },
    {
     "name": "stderr",
     "output_type": "stream",
     "text": [
      "         4    -9258181.2202        +328.2911\n"
     ]
    },
    {
     "name": "stderr",
     "output_type": "stream",
     "text": [
      "         5    -9257866.1408        +315.0794\n"
     ]
    },
    {
     "name": "stderr",
     "output_type": "stream",
     "text": [
      "         6    -9257558.4711        +307.6697\n"
     ]
    },
    {
     "name": "stderr",
     "output_type": "stream",
     "text": [
      "         7    -9257253.0678        +305.4033\n"
     ]
    },
    {
     "name": "stderr",
     "output_type": "stream",
     "text": [
      "         8    -9256945.2480        +307.8197\n"
     ]
    },
    {
     "name": "stderr",
     "output_type": "stream",
     "text": [
      "         9    -9256630.6412        +314.6069\n"
     ]
    },
    {
     "name": "stderr",
     "output_type": "stream",
     "text": [
      "        10    -9256305.0658        +325.5754\n"
     ]
    },
    {
     "name": "stderr",
     "output_type": "stream",
     "text": [
      "        11    -9255964.4226        +340.6432\n"
     ]
    },
    {
     "name": "stderr",
     "output_type": "stream",
     "text": [
      "        12    -9255604.6103        +359.8122\n"
     ]
    },
    {
     "name": "stderr",
     "output_type": "stream",
     "text": [
      "        13    -9255221.4471        +383.1633\n"
     ]
    },
    {
     "name": "stderr",
     "output_type": "stream",
     "text": [
      "        14    -9254810.6038        +410.8433\n"
     ]
    },
    {
     "name": "stderr",
     "output_type": "stream",
     "text": [
      "        15    -9254367.5453        +443.0585\n"
     ]
    },
    {
     "name": "stderr",
     "output_type": "stream",
     "text": [
      "        16    -9253887.4777        +480.0676\n"
     ]
    },
    {
     "name": "stderr",
     "output_type": "stream",
     "text": [
      "        17    -9253365.3089        +522.1688\n"
     ]
    },
    {
     "name": "stderr",
     "output_type": "stream",
     "text": [
      "        18    -9252795.6217        +569.6873\n"
     ]
    },
    {
     "name": "stderr",
     "output_type": "stream",
     "text": [
      "        19    -9252172.6654        +622.9562\n"
     ]
    },
    {
     "name": "stderr",
     "output_type": "stream",
     "text": [
      "        20    -9251490.3737        +682.2918\n"
     ]
    },
    {
     "name": "stderr",
     "output_type": "stream",
     "text": [
      "        21    -9250742.4218        +747.9518\n"
     ]
    },
    {
     "name": "stderr",
     "output_type": "stream",
     "text": [
      "        22    -9249922.3346        +820.0872\n"
     ]
    },
    {
     "name": "stderr",
     "output_type": "stream",
     "text": [
      "        23    -9249023.6676        +898.6670\n"
     ]
    },
    {
     "name": "stderr",
     "output_type": "stream",
     "text": [
      "        24    -9248040.2775        +983.3901\n"
     ]
    },
    {
     "name": "stderr",
     "output_type": "stream",
     "text": [
      "        25    -9246966.7082       +1073.5694\n"
     ]
    },
    {
     "name": "stderr",
     "output_type": "stream",
     "text": [
      "        26    -9245798.7141       +1167.9941\n"
     ]
    },
    {
     "name": "stderr",
     "output_type": "stream",
     "text": [
      "        27    -9244533.9248       +1264.7893\n"
     ]
    },
    {
     "name": "stderr",
     "output_type": "stream",
     "text": [
      "        28    -9243172.6471       +1361.2777\n"
     ]
    },
    {
     "name": "stderr",
     "output_type": "stream",
     "text": [
      "        29    -9241718.7458       +1453.9013\n"
     ]
    },
    {
     "name": "stderr",
     "output_type": "stream",
     "text": [
      "        30    -9240180.5107       +1538.2351\n"
     ]
    },
    {
     "name": "stderr",
     "output_type": "stream",
     "text": [
      "        31    -9238571.3376       +1609.1731\n"
     ]
    },
    {
     "name": "stderr",
     "output_type": "stream",
     "text": [
      "        32    -9236910.0120       +1661.3256\n"
     ]
    },
    {
     "name": "stderr",
     "output_type": "stream",
     "text": [
      "        33    -9235220.3591       +1689.6529\n"
     ]
    },
    {
     "name": "stderr",
     "output_type": "stream",
     "text": [
      "        34    -9233530.0949       +1690.2642\n"
     ]
    },
    {
     "name": "stderr",
     "output_type": "stream",
     "text": [
      "        35    -9231868.8631       +1661.2318\n"
     ]
    },
    {
     "name": "stderr",
     "output_type": "stream",
     "text": [
      "        36    -9230265.6804       +1603.1828\n"
     ]
    },
    {
     "name": "stderr",
     "output_type": "stream",
     "text": [
      "        37    -9228746.2274       +1519.4530\n"
     ]
    },
    {
     "name": "stderr",
     "output_type": "stream",
     "text": [
      "        38    -9227330.5447       +1415.6827\n"
     ]
    },
    {
     "name": "stderr",
     "output_type": "stream",
     "text": [
      "        39    -9226031.6229       +1298.9218\n"
     ]
    },
    {
     "name": "stderr",
     "output_type": "stream",
     "text": [
      "        40    -9224855.1161       +1176.5068\n"
     ]
    },
    {
     "name": "stderr",
     "output_type": "stream",
     "text": [
      "        41    -9223800.1086       +1055.0075\n"
     ]
    },
    {
     "name": "stderr",
     "output_type": "stream",
     "text": [
      "        42    -9222860.5815        +939.5271\n"
     ]
    },
    {
     "name": "stderr",
     "output_type": "stream",
     "text": [
      "        43    -9222027.1634        +833.4180\n"
     ]
    },
    {
     "name": "stderr",
     "output_type": "stream",
     "text": [
      "        44    -9221288.7740        +738.3894\n"
     ]
    },
    {
     "name": "stderr",
     "output_type": "stream",
     "text": [
      "        45    -9220633.9282        +654.8457\n"
     ]
    },
    {
     "name": "stderr",
     "output_type": "stream",
     "text": [
      "        46    -9220051.6291        +582.2991\n"
     ]
    },
    {
     "name": "stderr",
     "output_type": "stream",
     "text": [
      "        47    -9219531.8756        +519.7535\n"
     ]
    },
    {
     "name": "stderr",
     "output_type": "stream",
     "text": [
      "        48    -9219065.8841        +465.9915\n"
     ]
    },
    {
     "name": "stderr",
     "output_type": "stream",
     "text": [
      "        49    -9218646.1111        +419.7730\n"
     ]
    },
    {
     "name": "stderr",
     "output_type": "stream",
     "text": [
      "        50    -9218266.1724        +379.9387\n"
     ]
    },
    {
     "data": {
      "text/plain": [
       "MultinomialHMM(algorithm='viterbi', init_params='ste', n_components=2,\n        n_iter=50, params='ste',\n        random_state=<mtrand.RandomState object at 0x103d9f7e0>,\n        startprob_prior=1.0, tol=0.01,\n        transmat_prior=array([[0.95, 0.05],\n       [0.05, 0.95]]),\n        verbose=True)"
      ]
     },
     "execution_count": 147,
     "metadata": {},
     "output_type": "execute_result"
    }
   ],
   "source": [
    "initial_emission_matrix = np.array(\n",
    "    [[0.95, 0.05],\n",
    "     [0.05, 0.95]]\n",
    ")\n",
    "model = hmm.MultinomialHMM(n_components=2, transmat_prior=initial_emission_matrix, \n",
    "                           n_iter=50, verbose=True)\n",
    "model.fit(train_data)"
   ]
  },
  {
   "cell_type": "code",
   "execution_count": 148,
   "metadata": {},
   "outputs": [
    {
     "data": {
      "text/plain": [
       "array([[0.05958494, 0.03102433, 0.06364199, 0.06436151, 0.09005804,\n        0.05651969, 0.07584826, 0.20447515, 0.06246039, 0.03428703,\n        0.06257462, 0.06611098, 0.03992122, 0.00068426, 0.04981098,\n        0.03863663],\n       [0.03111409, 0.11702751, 0.0257118 , 0.02559461, 0.00419353,\n        0.05796211, 0.0224915 , 0.03154308, 0.02764945, 0.11230858,\n        0.02785975, 0.0229648 , 0.0924426 , 0.22774732, 0.07918651,\n        0.09420277]])"
      ]
     },
     "execution_count": 148,
     "metadata": {},
     "output_type": "execute_result"
    }
   ],
   "source": [
    "model.emissionprob_"
   ]
  },
  {
   "cell_type": "code",
   "execution_count": 149,
   "metadata": {},
   "outputs": [
    {
     "data": {
      "text/plain": [
       "array([0.20447515, 0.03154308])"
      ]
     },
     "execution_count": 149,
     "metadata": {},
     "output_type": "execute_result"
    }
   ],
   "source": [
    "model.emissionprob_[:, CG_POSITION]"
   ]
  },
  {
   "cell_type": "code",
   "execution_count": 150,
   "metadata": {},
   "outputs": [
    {
     "data": {
      "text/plain": [
       "array([[0.73421905, 0.26578095],\n       [0.34843564, 0.65156436]])"
      ]
     },
     "execution_count": 150,
     "metadata": {},
     "output_type": "execute_result"
    }
   ],
   "source": [
    "model.transmat_"
   ]
  },
  {
   "cell_type": "code",
   "execution_count": 249,
   "metadata": {},
   "outputs": [
    {
     "data": {
      "image/png": "[encoded data removed]",
      "text/plain": [
       "<matplotlib.figure.Figure at 0x11edd05f8>"
      ]
     },
     "metadata": {},
     "output_type": "display_data"
    }
   ],
   "source": [
    "def plot_emmision_probabilities(probs):\n",
    "    import seaborn as sns\n",
    "    from matplotlib import pyplot as plt\n",
    "    fig, ax = plt.subplots(figsize=(8, 8))\n",
    "    ax = sns.heatmap(probs, square=True, yticklabels=['state 1', 'state 2'], \n",
    "                     xticklabels=list(DINUCLEOTYDES.keys()), annot=True, \n",
    "                     linewidths=.5, ax=ax, cbar=False, fmt='.2f')\n",
    "    \n",
    "plot_emmision_probabilities(model.emissionprob_)"
   ]
  },
  {
   "cell_type": "markdown",
   "metadata": {},
   "source": [
    "The emission probability matrix of symbols given hidden state has a clear biological interpretation: when we're currently in a CG island (state 1), the probability of emitting a CG dinucleotyde is significantly higher than outside CG island (state 2)."
   ]
  },
  {
   "cell_type": "markdown",
   "metadata": {},
   "source": [
    "## Inferring hidden states for test sequences"
   ]
  },
  {
   "cell_type": "code",
   "execution_count": 225,
   "metadata": {
    "collapsed": false
   },
   "outputs": [],
   "source": [
    "test_data = list(map(extract_dinucleotydes, test_data))"
   ]
  },
  {
   "cell_type": "code",
   "execution_count": 245,
   "metadata": {},
   "outputs": [
    {
     "name": "stdout",
     "output_type": "stream",
     "text": [
      "Predicting sequence 0 with size 698.\nPredicting sequence 1 with size 914.\nPredicting sequence 2 with size 4.\nPredicting sequence 3 with size 756.\nPredicting sequence 4 with size 1212.\nPredicting sequence 5 with size 361.\nPredicting sequence 6 with size 885.\nPredicting sequence 7 with size 986.\nPredicting sequence 8 with size 1122.\nPredicting sequence 9 with size 763.\nPredicting sequence 10 with size 119.\nPredicting sequence 11 with size 1260.\nPredicting sequence 12 with size 2390.\nPredicting sequence 13 with size 519.\nPredicting sequence 14 with size 886.\nPredicting sequence 15 with size 115.\nPredicting sequence 16 with size 2408.\nPredicting sequence 17 with size 881.\nPredicting sequence 18 with size 436.\nPredicting sequence 19 with size 639.\nPredicting sequence 20 with size 153.\nPredicting sequence 21 with size 546.\nPredicting sequence 22 with size 115.\nPredicting sequence 23 with size 76.\nPredicting sequence 24 with size 379.\nPredicting sequence 25 with size 690.\nPredicting sequence 26 with size 101.\nPredicting sequence 27 with size 1070.\nPredicting sequence 28 with size 908.\nPredicting sequence 29 with size 711.\n"
     ]
    }
   ],
   "source": [
    "with open('output.txt', 'w') as output_file:\n",
    "    for i, sequence in enumerate(test_data):\n",
    "        print(f'Predicting sequence {i} with size {len(sequence)}.')\n",
    "        hidden_states = model.predict(np.array(sequence).reshape(-1, 1))\n",
    "        output_file.write(' '.join([str(state) for state in hidden_states]) + '\\n')"
   ]
  },
  {
   "cell_type": "code",
   "execution_count": 247,
   "metadata": {},
   "outputs": [
    {
     "name": "stdout",
     "output_type": "stream",
     "text": [
      "1 1 1 1 1 0 0 0 0 0 0 1 1 1 1 1 0 0 0 0 1 1 0 0 0 1 1 1 1 1 1 0 0 1 1 1 1 1 1 1 1 0 0 0 1 1 1 1 1 1 1 1 0 0 0 0 0 0 0 0 0 0 0 0 0 0 0 0 0 0 0 0 1 1 0 0 1 1 1 0 0 0 0 1 1 0 0 0 0 0 0 0 0 1 1 1 0 0 0 0 0 0 0 0 0 0 0 0 1 1 1 1 1 0 0 0 0 0 0 0 0 0 0 1 1 1 0 0 0 1 1 0 0 0 0 0 0 0 0 0 0 0 0 0 1 1 1 1 1 1 1 1 1 0 0 0 0 0 0 0 0 0 0 0 0 1 1 0 0 0 0 1 1 0 0 0 1 1 0 0 0 0 0 0 0 0 0 0 0 0 0 0 0 0 0 0 0 0 0 1 1 1 1 1 1 1 1 1 0 1 1 1 0 0 0 0 0 0 1 1 1 0 0 0 0 0 0 0 0 0 0 1 1 1 1 1 1 0 0 0 0 0 1 1 1 1 0 0 0 0 0 1 1 1 0 0 0 0 0 0 0 0 0 0 0 1 1 1 0 0 0 0 1 1 0 0 0 0 0 1 1 1 1 1 1 1 1 1 0 1 0 0 0 0 0 1 1 0 1 1 1 1 0 0 1 1 1 1 1 0 0 0 0 0 0 0 0 0 0 0 0 0 0 1 0 1 1 1 1 1 1 1 0 0 1 1 0 0 0 0 0 0 0 0 0 0 0 0 0 0 0 0 0 0 0 1 1 1 1 0 1 1 0 0 0 0 0 0 0 0 0 0 0 0 0 0 0 0 0 0 0 1 1 1 1 1 1 0 1 1 0 0 0 0 0 0 0 0 0 1 1 1 0 0 0 0 0 0 0 0 0 0 0 0 0 0 0 1 1 0 1 1 1 1 1 0 1 0 0 0 0 0 0 0 0 0 0 0 0 1 1 1 1 1 1 1 1 1 1 1 1 1 0 0 0 0 0 0 0 0 0 0 0 0 0 1 1 1 1 1 0 1 1 1 1 1 1 1 1 1 0 0 1 1 1 1 1 1 1 0 0 0 0 1 1 1 1 1 1 1 1 1 0 0 0 0 1 1 1 1 1 1 1 0 0 0 0 0 0 0 0 0 0 0 1 1 0 0 0 1 1 0 0 0 0 0 0 0 1 1 0 0 0 0 0 0 0 0 0 0 0 0 0 0 0 0 1 1 1 1 1 0 0 0 0 0 0 0 0 0 0 0 0 0 0 1 1 1 1 1 1 0 0 0 0 1 1 0 0 1 1 1 1 1 0 0 0 0 0 0 0 0 1 1 1 1 1 1 1 1 1 1 1 0 0 0 0 1 1 1 0 0 1 1 0 0 0 0 0 0 1 1 1 0 0 0 1 1 1 0 0 0 0 0 0 0 0 0 0 0 0 0 1 1 1 1 1 0 0 0 1 1 1 1 1 1 1 1 1 0 0 0 0 0 0 0 0 0 1 1 0 0 0 1 1 1 1 0 0 0 0 1 1 0 0 0 0 0\r\n"
     ]
    }
   ],
   "source": [
    "!head -n 1 output.txt"
   ]
  },
  {
   "cell_type": "markdown",
   "metadata": {},
   "source": [
    "Note that again 1 corresponds to a CG island."
   ]
  }
 ],
 "metadata": {
  "kernelspec": {
   "display_name": "Python 2",
   "language": "python",
   "name": "python2"
  },
  "language_info": {
   "codemirror_mode": {
    "name": "ipython",
    "version": 2.0
   },
   "file_extension": ".py",
   "mimetype": "text/x-python",
   "name": "python",
   "nbconvert_exporter": "python",
   "pygments_lexer": "ipython2",
   "version": "2.7.6"
  }
 },
 "nbformat": 4,
 "nbformat_minor": 0
}