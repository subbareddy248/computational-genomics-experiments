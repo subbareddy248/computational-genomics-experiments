{
 "cells": [
  {
   "cell_type": "markdown",
   "metadata": {},
   "source": [
    "# Homework 1\n",
    "\n",
    "The goal of this assignment was, given a set of $n$ DNA sequences, to find shortest $k$ for which there exists a set of probes of length $k$ uniquely hybridizes with each given sequence in the set."
   ]
  },
  {
   "cell_type": "code",
   "execution_count": 24,
   "metadata": {
    "collapsed": true
   },
   "outputs": [],
   "source": [
    "from Bio import SeqIO"
   ]
  },
  {
   "cell_type": "code",
   "execution_count": 85,
   "metadata": {
    "collapsed": true
   },
   "outputs": [],
   "source": [
    "targets = [record for record in SeqIO.parse(\"yeast.fa_1\", \"fasta\")]\n",
    "targets = targets[:200]  # Due to computational constraints, let us analyze only 200 genes from our dataset"
   ]
  },
  {
   "cell_type": "code",
   "execution_count": 37,
   "metadata": {},
   "outputs": [
    {
     "data": {
      "text/plain": [
       "[SeqRecord(seq=Seq('ATGAGTGATAATGGTTCCCCCGCGGTTCTTCCAAAAACCGAATTTAATAAATAC...TAG', SingleLetterAlphabet()), id='YPR161C', name='YPR161C', description='YPR161C <unknown description>', dbxrefs=[]),\n",
       " SeqRecord(seq=Seq('ATGAGCTTATCACCACACGTAGAAAATGCTTCCATTCCCAAGGGGAGTACCCCG...TAG', SingleLetterAlphabet()), id='YOL138C', name='YOL138C', description='YOL138C <unknown description>', dbxrefs=[]),\n",
       " SeqRecord(seq=Seq('ATGGTACAAGAACAGGCAATTTTGAGCTGCATTGAGCAGACTATGGTTGCTGAT...TGA', SingleLetterAlphabet()), id='YDR395W', name='YDR395W', description='YDR395W <unknown description>', dbxrefs=[])]"
      ]
     },
     "execution_count": 37,
     "metadata": {},
     "output_type": "execute_result"
    }
   ],
   "source": [
    "targets[:3]"
   ]
  },
  {
   "cell_type": "markdown",
   "metadata": {},
   "source": [
    "Our candidate probes are $k$-mers extracted from each sequence. "
   ]
  },
  {
   "cell_type": "code",
   "execution_count": 38,
   "metadata": {
    "collapsed": true
   },
   "outputs": [],
   "source": [
    "def get_kmers(sequence, k):\n",
    "    kmers = set()\n",
    "    for i in range(len(sequence)-k):\n",
    "        kmers.add(sequence[i:i+k].seq)\n",
    "    return kmers"
   ]
  },
  {
   "cell_type": "code",
   "execution_count": 39,
   "metadata": {},
   "outputs": [],
   "source": [
    "def get_candidate_probes(targets, k):\n",
    "    candidate_probes = set()\n",
    "    for seq in targets:\n",
    "        for kmer in get_kmers(seq, k):\n",
    "            candidate_probes.add((kmer, seq.id))\n",
    "    return candidate_probes"
   ]
  },
  {
   "cell_type": "code",
   "execution_count": 40,
   "metadata": {},
   "outputs": [
    {
     "name": "stderr",
     "output_type": "stream",
     "text": [
      "/Users/tomek/.virtualenvs/x/lib/python3.6/site-packages/Bio/Seq.py:155: BiopythonWarning: Biopython Seq objects now use string comparison. Older versions of Biopython used object comparison. During this transition, please use hash(id(my_seq)) or my_dict[id(my_seq)] if you want the old behaviour, or use hash(str(my_seq)) or my_dict[str(my_seq)] for the new string hashing behaviour.\n",
      "  \"the new string hashing behaviour.\", BiopythonWarning)\n"
     ]
    },
    {
     "data": {
      "text/plain": [
       "[(Seq('AAAACATGAT', SingleLetterAlphabet()), 'YFL009W'),\n",
       " (Seq('GACTTATGAA', SingleLetterAlphabet()), 'YDR034C-C'),\n",
       " (Seq('TCGATAATGC', SingleLetterAlphabet()), 'YBR208C'),\n",
       " (Seq('TGACCGGCTG', SingleLetterAlphabet()), 'YBR270C'),\n",
       " (Seq('CACGTTCAGA', SingleLetterAlphabet()), 'YOR323C'),\n",
       " (Seq('CAATGTCGCA', SingleLetterAlphabet()), 'YDL167C'),\n",
       " (Seq('AAACCATTGA', SingleLetterAlphabet()), 'YPL118W'),\n",
       " (Seq('CCCATTTATA', SingleLetterAlphabet()), 'YCL008C'),\n",
       " (Seq('ATATATCTTT', SingleLetterAlphabet()), 'YKR054C'),\n",
       " (Seq('ATGATGGTGA', SingleLetterAlphabet()), 'YGR097W')]"
      ]
     },
     "execution_count": 40,
     "metadata": {},
     "output_type": "execute_result"
    }
   ],
   "source": [
    "list(get_candidate_probes(targets, 10))[:10]"
   ]
  },
  {
   "cell_type": "markdown",
   "metadata": {},
   "source": [
    "However, a probe is only good when uniquely pointing to one sequence in our set. We will discard duplicates by lexicographically sorting our candidates and saving only those probes that have non-identical neighbours. "
   ]
  },
  {
   "cell_type": "code",
   "execution_count": 41,
   "metadata": {
    "collapsed": true
   },
   "outputs": [],
   "source": [
    "def get_unique_probes(candidate_probes):\n",
    "    probes = sorted(candidate_probes, key=lambda pair: pair[0])\n",
    "    unique_probes = []\n",
    "    for i in range(1, len(probes)-1):\n",
    "        if probes[i][0] != probes[i-1][0] and probes[i][0] != probes[i+1][0]:\n",
    "            unique_probes.append(probes[i])\n",
    "    return unique_probes"
   ]
  },
  {
   "cell_type": "markdown",
   "metadata": {},
   "source": [
    "Finally, we'd like to find the smallest $k$ for which there is a probe set of length $k$ that covers entire sequence set."
   ]
  },
  {
   "cell_type": "code",
   "execution_count": 81,
   "metadata": {},
   "outputs": [],
   "source": [
    "def get_sequence_set_coverage(probes, targets): \n",
    "    return len(set(target for probe, target in probes))/len(targets)"
   ]
  },
  {
   "cell_type": "code",
   "execution_count": 82,
   "metadata": {},
   "outputs": [],
   "source": [
    "def find_k(targets):\n",
    "    k = 1\n",
    "    while True:\n",
    "        probes = get_unique_probes(get_candidate_probes(targets, k))\n",
    "        coverage = get_sequence_set_coverage(probes, targets)\n",
    "        if coverage >= 1:\n",
    "            return k\n",
    "        else:\n",
    "            print(f'k = {k} failed with coverage {coverage*100}%, keeping searching...')\n",
    "            k += 1"
   ]
  },
  {
   "cell_type": "code",
   "execution_count": 86,
   "metadata": {},
   "outputs": [
    {
     "name": "stderr",
     "output_type": "stream",
     "text": [
      "/Users/tomek/.virtualenvs/x/lib/python3.6/site-packages/Bio/Seq.py:155: BiopythonWarning: Biopython Seq objects now use string comparison. Older versions of Biopython used object comparison. During this transition, please use hash(id(my_seq)) or my_dict[id(my_seq)] if you want the old behaviour, or use hash(str(my_seq)) or my_dict[str(my_seq)] for the new string hashing behaviour.\n",
      "  \"the new string hashing behaviour.\", BiopythonWarning)\n"
     ]
    },
    {
     "name": "stdout",
     "output_type": "stream",
     "text": [
      "k = 1 failed with coverage 0.0%, keeping searching...\n",
      "k = 2 failed with coverage 0.0%, keeping searching...\n",
      "k = 3 failed with coverage 0.0%, keeping searching...\n",
      "k = 4 failed with coverage 0.0%, keeping searching...\n",
      "k = 5 failed with coverage 0.0%, keeping searching...\n",
      "k = 6 failed with coverage 0.0%, keeping searching...\n",
      "k = 7 failed with coverage 36.5%, keeping searching...\n",
      "k = 8 failed with coverage 99.5%, keeping searching...\n",
      "CPU times: user 2min 43s, sys: 395 ms, total: 2min 44s\n",
      "Wall time: 2min 44s\n"
     ]
    },
    {
     "data": {
      "text/plain": [
       "9"
      ]
     },
     "execution_count": 86,
     "metadata": {},
     "output_type": "execute_result"
    }
   ],
   "source": [
    "%%time\n",
    "find_k(targets)"
   ]
  }
 ],
 "metadata": {
  "kernelspec": {
   "display_name": "Python 3",
   "language": "python",
   "name": "python3"
  },
  "language_info": {
   "codemirror_mode": {
    "name": "ipython",
    "version": 3.0
   },
   "file_extension": ".py",
   "mimetype": "text/x-python",
   "name": "python",
   "nbconvert_exporter": "python",
   "pygments_lexer": "ipython3",
   "version": "3.6.1"
  }
 },
 "nbformat": 4,
 "nbformat_minor": 0
}